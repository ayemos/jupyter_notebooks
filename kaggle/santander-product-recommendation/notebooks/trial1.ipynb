{
 "cells": [
  {
   "cell_type": "code",
   "execution_count": 6,
   "metadata": {
    "collapsed": true
   },
   "outputs": [],
   "source": [
    "import pandas as pd\n",
    "import numpy as np\n",
    "\n",
    "from IPython.display import display\n",
    "\n",
    "CATEGORICAL_COLS = frozenset([\n",
    "    'ind_empleado',\n",
    "    'pais_residencia',\n",
    "    'sexo',\n",
    "    'indrel_1mes',\n",
    "    'tiprel_1mes',\n",
    "    'indresi',\n",
    "    'indext',\n",
    "    'canal_entrada',\n",
    "    'indfall',\n",
    "    'cod_prov',\n",
    "    'segmento'\n",
    "    ])\n",
    "\n",
    "UNUSED_COLS = frozenset([\n",
    "    'nomprov',\n",
    "    'day',\n",
    "    'day_alta'\n",
    "])\n",
    "\n",
    "Y_COLS = frozenset([\n",
    "    'ind_ahor_fin_ult1',\n",
    "    'ind_aval_fin_ult1',\n",
    "    'ind_cco_fin_ult1',\n",
    "    'ind_cder_fin_ult1',\n",
    "    'ind_cno_fin_ult1',\n",
    "    'ind_ctju_fin_ult1',\n",
    "    'ind_ctma_fin_ult1',\n",
    "    'ind_ctop_fin_ult1',\n",
    "    'ind_ctpp_fin_ult1',\n",
    "    'ind_deco_fin_ult1',\n",
    "    'ind_deme_fin_ult1',\n",
    "    'ind_dela_fin_ult1',\n",
    "    'ind_ecue_fin_ult1',\n",
    "    'ind_fond_fin_ult1',\n",
    "    'ind_hip_fin_ult1',\n",
    "    'ind_plan_fin_ult1',\n",
    "    'ind_pres_fin_ult1',\n",
    "    'ind_reca_fin_ult1',\n",
    "    'ind_tjcr_fin_ult1',\n",
    "    'ind_valo_fin_ult1',\n",
    "    'ind_viv_fin_ult1',\n",
    "    'ind_nomina_ult1',\n",
    "    'ind_nom_pens_ult1',\n",
    "    'ind_recibo_ult1'\n",
    "]) \n",
    "\n",
    "DATE_COLS = frozenset([\n",
    "        'fecha_dato',\n",
    "        'fecha_alta'\n",
    "    ])"
   ]
  },
  {
   "cell_type": "code",
   "execution_count": 7,
   "metadata": {
    "collapsed": false
   },
   "outputs": [],
   "source": [
    "def preprocess(in_data):\n",
    "    dataset = in_data\n",
    "\n",
    "    for col in list(dataset.columns):\n",
    "        if col in CATEGORICAL_COLS:\n",
    "            dataset[col] = dataset[col].astype(\"category\")\n",
    "        elif col in UNUSED_COLS:\n",
    "            dataset = dataset.drop(col, axis=1)\n",
    "        \n",
    "    date_col = dataset['fecha_dato']\n",
    "    \n",
    "    dataset['year'] = date_col.dt.year\n",
    "    dataset['month'] = date_col.dt.month\n",
    "    dataset['day'] = date_col.dt.day\n",
    "    dataset['isweekend'] = (date_col.dt.weekday >= 5).astype(int)\n",
    "    dataset = dataset.drop('fecha_dato', axis =1)\n",
    "    \n",
    "    date_alta_col = dataset['fecha_alta']\n",
    "    \n",
    "    dataset['year_alta'] = date_col.dt.year\n",
    "    dataset['month_alta'] = date_col.dt.month\n",
    "    dataset['day_alta'] = date_col.dt.day\n",
    "    dataset['isweekend_alta'] = (date_col.dt.weekday >= 5).astype(int)\n",
    "    dataset = dataset.drop('fecha_alta', axis =1)\n",
    "    \n",
    "    return dataset"
   ]
  },
  {
   "cell_type": "code",
   "execution_count": null,
   "metadata": {
    "collapsed": false
   },
   "outputs": [
    {
     "name": "stderr",
     "output_type": "stream",
     "text": [
      "/Users/yuichiro/.pyenv/versions/anaconda3-4.1.1/lib/python3.5/site-packages/IPython/core/interactiveshell.py:2723: DtypeWarning: Columns (15) have mixed types. Specify dtype option on import or set low_memory=False.\n",
      "  interactivity=interactivity, compiler=compiler, result=result)\n"
     ]
    },
    {
     "name": "stdout",
     "output_type": "stream",
     "text": [
      "Train data shape: (999999, 48)\n",
      "Test data shape:(9999, 24)\n",
      "['fecha_dato' 'ncodpers' 'ind_empleado' 'pais_residencia' 'sexo' 'age'\n",
      " 'fecha_alta' 'ind_nuevo' 'antiguedad' 'indrel' 'ult_fec_cli_1t'\n",
      " 'indrel_1mes' 'tiprel_1mes' 'indresi' 'indext' 'conyuemp' 'canal_entrada'\n",
      " 'indfall' 'tipodom' 'cod_prov' 'nomprov' 'ind_actividad_cliente' 'renta'\n",
      " 'segmento' 'ind_ahor_fin_ult1' 'ind_aval_fin_ult1' 'ind_cco_fin_ult1'\n",
      " 'ind_cder_fin_ult1' 'ind_cno_fin_ult1' 'ind_ctju_fin_ult1'\n",
      " 'ind_ctma_fin_ult1' 'ind_ctop_fin_ult1' 'ind_ctpp_fin_ult1'\n",
      " 'ind_deco_fin_ult1' 'ind_deme_fin_ult1' 'ind_dela_fin_ult1'\n",
      " 'ind_ecue_fin_ult1' 'ind_fond_fin_ult1' 'ind_hip_fin_ult1'\n",
      " 'ind_plan_fin_ult1' 'ind_pres_fin_ult1' 'ind_reca_fin_ult1'\n",
      " 'ind_tjcr_fin_ult1' 'ind_valo_fin_ult1' 'ind_viv_fin_ult1'\n",
      " 'ind_nomina_ult1' 'ind_nom_pens_ult1' 'ind_recibo_ult1']\n"
     ]
    },
    {
     "name": "stderr",
     "output_type": "stream",
     "text": [
      "/Users/yuichiro/.pyenv/versions/anaconda3-4.1.1/lib/python3.5/site-packages/numpy/lib/function_base.py:3834: RuntimeWarning: Invalid value encountered in percentile\n",
      "  RuntimeWarning)\n"
     ]
    }
   ],
   "source": [
    "data_type_dict = {\n",
    "    'ncodpers': np.str,\n",
    "}\n",
    "\n",
    "\n",
    "train_data = pd.read_csv(\"../inputs/train_1_000_000.csv\", dtype=data_type_dict, parse_dates=list(DATE_COLS))\n",
    "test_data = pd.read_csv(\"../inputs/test_min.csv\", dtype=data_type_dict, parse_dates=list(DATE_COLS))\n",
    "\n",
    "print(\"Train data shape: \" + format(train_data.shape))\n",
    "print(\"Test data shape:\" + format(test_data.shape))\n",
    "print(train_data.columns.values)\n",
    "train_data = preprocess(train_data)\n",
    "display(train_data.describe(include='all'))\n",
    "display(train_data.head())"
   ]
  },
  {
   "cell_type": "code",
   "execution_count": null,
   "metadata": {
    "collapsed": true
   },
   "outputs": [],
   "source": [
    "from scipy.sparse import hstack\n",
    "\n",
    "X = hstack[train_data["
   ]
  },
  {
   "cell_type": "code",
   "execution_count": null,
   "metadata": {
    "collapsed": true
   },
   "outputs": [],
   "source": []
  }
 ],
 "metadata": {
  "anaconda-cloud": {},
  "kernelspec": {
   "display_name": "Python [default]",
   "language": "python",
   "name": "python3"
  },
  "language_info": {
   "codemirror_mode": {
    "name": "ipython",
    "version": 3
   },
   "file_extension": ".py",
   "mimetype": "text/x-python",
   "name": "python",
   "nbconvert_exporter": "python",
   "pygments_lexer": "ipython3",
   "version": "3.5.2"
  }
 },
 "nbformat": 4,
 "nbformat_minor": 0
}
