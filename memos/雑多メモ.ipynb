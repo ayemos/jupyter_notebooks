{
 "cells": [
  {
   "cell_type": "markdown",
   "metadata": {},
   "source": [
    "# Sparce Matrix"
   ]
  },
  {
   "cell_type": "code",
   "execution_count": 10,
   "metadata": {
    "collapsed": false
   },
   "outputs": [
    {
     "name": "stdout",
     "output_type": "stream",
     "text": [
      "   0  1  2  3  4  5\n",
      "0  1  3  5  7  9  8\n",
      "1  1  1  1  1  1  1\n",
      "2  1  3  3  1  3  3\n",
      "  (0, 13)\t1.0\n",
      "  (0, 10)\t1.0\n",
      "  (0, 7)\t1.0\n",
      "  (0, 5)\t1.0\n",
      "  (0, 2)\t1.0\n",
      "  (0, 0)\t1.0\n",
      "  (1, 11)\t1.0\n",
      "  (1, 8)\t1.0\n",
      "  (1, 6)\t1.0\n",
      "  (1, 3)\t1.0\n",
      "  (1, 1)\t1.0\n",
      "  (1, 0)\t1.0\n",
      "  (2, 12)\t1.0\n",
      "  (2, 9)\t1.0\n",
      "  (2, 6)\t1.0\n",
      "  (2, 4)\t1.0\n",
      "  (2, 2)\t1.0\n",
      "  (2, 0)\t1.0\n"
     ]
    }
   ],
   "source": [
    "import numpy as np\n",
    "import pandas as pd\n",
    "from sklearn.preprocessing import OneHotEncoder\n",
    "\n",
    "m = pd.DataFrame(\n",
    "[\n",
    "        [1, 3, 5, 7, 9, 8],\n",
    "        [1, 1, 1, 1, 1, 1],\n",
    "        [1, 3, 3, 1, 3, 3]\n",
    "    ])\n",
    "\n",
    "print(m)\n",
    "\n",
    "\n",
    "enc = OneHotEncoder(sparse=True)\n",
    "enc = enc.fit(m)\n",
    "m_transformed = enc.transform(m)\n",
    "print(m_transformed)\n"
   ]
  },
  {
   "cell_type": "code",
   "execution_count": null,
   "metadata": {
    "collapsed": true
   },
   "outputs": [],
   "source": []
  }
 ],
 "metadata": {
  "anaconda-cloud": {},
  "kernelspec": {
   "display_name": "Python [default]",
   "language": "python",
   "name": "python3"
  },
  "language_info": {
   "codemirror_mode": {
    "name": "ipython",
    "version": 3
   },
   "file_extension": ".py",
   "mimetype": "text/x-python",
   "name": "python",
   "nbconvert_exporter": "python",
   "pygments_lexer": "ipython3",
   "version": "3.5.2"
  }
 },
 "nbformat": 4,
 "nbformat_minor": 0
}
